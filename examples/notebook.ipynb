{
 "cells": [
  {
   "cell_type": "code",
   "execution_count": 82,
   "metadata": {},
   "outputs": [],
   "source": [
    "using Interact, Luxor, Thebes"
   ]
  },
  {
   "cell_type": "code",
   "execution_count": 83,
   "metadata": {},
   "outputs": [],
   "source": [
    "include(Pkg.dir() * \"/Thebes/src/moreobjects.jl\")\n",
    "moreobjects = [boxcube, boxtorus, concave, cone, cross, cube, cuboctahedron, dodecahedron , geodesic, helix2,\n",
    "icosahedron, icosidodecahedron, octahedron, octtorus, rhombicosidodecahedron,\n",
    "rhombicuboctahedron, rhombitruncated_cubeoctahedron, rhombitruncated_icosidodecahedron,\n",
    "snub_cube, snub_dodecahedron, sphere2, tet3d, tetrahedron, triangle, truncated_cube,\n",
    "truncated_dodecahedron, truncated_icosahedron, truncated_octahedron, truncated_tetrahedron];"
   ]
  },
  {
   "cell_type": "code",
   "execution_count": 84,
   "metadata": {},
   "outputs": [
    {
     "data": {
      "application/vnd.jupyter.widget-view+json": {
       "model_id": "566c1db9-fb43-4927-b235-794293b833c6",
       "version_major": 2,
       "version_minor": 0
      }
     },
     "metadata": {},
     "output_type": "display_data"
    },
    {
     "data": {
      "text/html": [],
      "text/plain": [
       "Interact.Options{:SelectionSlider,Float64}(257: \"input-114\" = 3.1 Float64 , \"r1\", 3.1, \"3.1\", 32, Interact.OptionDict(DataStructures.OrderedDict(\"0.0\"=>0.0,\"0.1\"=>0.1,\"0.2\"=>0.2,\"0.30000000000000004\"=>0.3,\"0.4\"=>0.4,\"0.5\"=>0.5,\"0.6000000000000001\"=>0.6,\"0.7000000000000001\"=>0.7,\"0.8\"=>0.8,\"0.9\"=>0.9…), Dict(4.3=>\"4.3\",2.0=>\"2.0\",1.5=>\"1.5\",6.2=>\"6.2\",0.2=>\"0.2\",3.5=>\"3.5\",5.8=>\"5.800000000000001\",3.8=>\"3.8000000000000003\",5.6=>\"5.6000000000000005\",4.9=>\"4.9\"…)), Any[], Any[], true, \"horizontal\", true)"
      ]
     },
     "metadata": {},
     "output_type": "display_data"
    },
    {
     "data": {
      "application/vnd.jupyter.widget-view+json": {
       "model_id": "e0262841-d954-4e1c-b24f-c30cbac0724c",
       "version_major": 2,
       "version_minor": 0
      }
     },
     "metadata": {},
     "output_type": "display_data"
    },
    {
     "data": {
      "text/html": [],
      "text/plain": [
       "Interact.Options{:SelectionSlider,Float64}(259: \"input-115\" = 3.1 Float64 , \"r2\", 3.1, \"3.1\", 32, Interact.OptionDict(DataStructures.OrderedDict(\"0.0\"=>0.0,\"0.1\"=>0.1,\"0.2\"=>0.2,\"0.30000000000000004\"=>0.3,\"0.4\"=>0.4,\"0.5\"=>0.5,\"0.6000000000000001\"=>0.6,\"0.7000000000000001\"=>0.7,\"0.8\"=>0.8,\"0.9\"=>0.9…), Dict(4.3=>\"4.3\",2.0=>\"2.0\",1.5=>\"1.5\",6.2=>\"6.2\",0.2=>\"0.2\",3.5=>\"3.5\",5.8=>\"5.800000000000001\",3.8=>\"3.8000000000000003\",5.6=>\"5.6000000000000005\",4.9=>\"4.9\"…)), Any[], Any[], true, \"horizontal\", true)"
      ]
     },
     "metadata": {},
     "output_type": "display_data"
    },
    {
     "data": {
      "application/vnd.jupyter.widget-view+json": {
       "model_id": "25765de2-6328-4ef3-9b69-9c4c74f3105b",
       "version_major": 2,
       "version_minor": 0
      }
     },
     "metadata": {},
     "output_type": "display_data"
    },
    {
     "data": {
      "text/html": [],
      "text/plain": [
       "Interact.Options{:SelectionSlider,Float64}(261: \"input-116\" = 3.1 Float64 , \"r3\", 3.1, \"3.1\", 32, Interact.OptionDict(DataStructures.OrderedDict(\"0.0\"=>0.0,\"0.1\"=>0.1,\"0.2\"=>0.2,\"0.30000000000000004\"=>0.3,\"0.4\"=>0.4,\"0.5\"=>0.5,\"0.6000000000000001\"=>0.6,\"0.7000000000000001\"=>0.7,\"0.8\"=>0.8,\"0.9\"=>0.9…), Dict(4.3=>\"4.3\",2.0=>\"2.0\",1.5=>\"1.5\",6.2=>\"6.2\",0.2=>\"0.2\",3.5=>\"3.5\",5.8=>\"5.800000000000001\",3.8=>\"3.8000000000000003\",5.6=>\"5.6000000000000005\",4.9=>\"4.9\"…)), Any[], Any[], true, \"horizontal\", true)"
      ]
     },
     "metadata": {},
     "output_type": "display_data"
    },
    {
     "data": {
      "application/vnd.jupyter.widget-view+json": {
       "model_id": "ebb19bc9-6f0f-49cd-ad32-5805e487e475",
       "version_major": 2,
       "version_minor": 0
      }
     },
     "metadata": {},
     "output_type": "display_data"
    },
    {
     "data": {
      "text/html": [],
      "text/plain": [
       "Interact.Options{:SelectionSlider,Int64}(263: \"input-117\" = 70 Int64 , \"s\", 70, \"70\", 31, Interact.OptionDict(DataStructures.OrderedDict(\"40\"=>40,\"41\"=>41,\"42\"=>42,\"43\"=>43,\"44\"=>44,\"45\"=>45,\"46\"=>46,\"47\"=>47,\"48\"=>48,\"49\"=>49…), Dict(68=>\"68\",89=>\"89\",46=>\"46\",85=>\"85\",55=>\"55\",42=>\"42\",66=>\"66\",58=>\"58\",59=>\"59\",74=>\"74\"…)), Any[], Any[], true, \"horizontal\", true)"
      ]
     },
     "metadata": {},
     "output_type": "display_data"
    },
    {
     "data": {
      "application/vnd.jupyter.widget-view+json": {
       "model_id": "927e8df7-f909-405a-ba47-ab8fc1b05603",
       "version_major": 2,
       "version_minor": 0
      }
     },
     "metadata": {},
     "output_type": "display_data"
    },
    {
     "data": {
      "text/html": [],
      "text/plain": [
       "Interact.Options{:SelectionSlider,Int64}(265: \"input-118\" = 110 Int64 , \"eyex\", 110, \"110\", 10, Interact.OptionDict(DataStructures.OrderedDict(\"20\"=>20,\"30\"=>30,\"40\"=>40,\"50\"=>50,\"60\"=>60,\"70\"=>70,\"80\"=>80,\"90\"=>90,\"100\"=>100,\"110\"=>110…), Dict(200=>\"200\",100=>\"100\",50=>\"50\",80=>\"80\",40=>\"40\",140=>\"140\",190=>\"190\",160=>\"160\",170=>\"170\",60=>\"60\"…)), Any[], Any[], true, \"horizontal\", true)"
      ]
     },
     "metadata": {},
     "output_type": "display_data"
    },
    {
     "data": {
      "application/vnd.jupyter.widget-view+json": {
       "model_id": "7a978ab5-b313-46a4-a90d-19ef7357e468",
       "version_major": 2,
       "version_minor": 0
      }
     },
     "metadata": {},
     "output_type": "display_data"
    },
    {
     "data": {
      "text/html": [],
      "text/plain": [
       "Interact.Options{:SelectionSlider,Int64}(267: \"input-119\" = 160 Int64 , \"eyey\", 160, \"160\", 15, Interact.OptionDict(DataStructures.OrderedDict(\"20\"=>20,\"30\"=>30,\"40\"=>40,\"50\"=>50,\"60\"=>60,\"70\"=>70,\"80\"=>80,\"90\"=>90,\"100\"=>100,\"110\"=>110…), Dict(200=>\"200\",100=>\"100\",50=>\"50\",80=>\"80\",40=>\"40\",140=>\"140\",190=>\"190\",210=>\"210\",160=>\"160\",170=>\"170\"…)), Any[], Any[], true, \"horizontal\", true)"
      ]
     },
     "metadata": {},
     "output_type": "display_data"
    },
    {
     "data": {
      "application/vnd.jupyter.widget-view+json": {
       "model_id": "05ebc368-b153-4994-a3d1-518951c1047c",
       "version_major": 2,
       "version_minor": 0
      }
     },
     "metadata": {},
     "output_type": "display_data"
    },
    {
     "data": {
      "text/html": [],
      "text/plain": [
       "Interact.Options{:SelectionSlider,Int64}(269: \"input-120\" = 160 Int64 , \"eyez\", 160, \"160\", 15, Interact.OptionDict(DataStructures.OrderedDict(\"20\"=>20,\"30\"=>30,\"40\"=>40,\"50\"=>50,\"60\"=>60,\"70\"=>70,\"80\"=>80,\"90\"=>90,\"100\"=>100,\"110\"=>110…), Dict(200=>\"200\",100=>\"100\",50=>\"50\",80=>\"80\",40=>\"40\",140=>\"140\",190=>\"190\",210=>\"210\",160=>\"160\",170=>\"170\"…)), Any[], Any[], true, \"horizontal\", true)"
      ]
     },
     "metadata": {},
     "output_type": "display_data"
    },
    {
     "data": {
      "image/svg+xml": [
       "<?xml version=\"1.0\" encoding=\"UTF-8\"?>\n",
       "<svg xmlns=\"http://www.w3.org/2000/svg\" xmlns:xlink=\"http://www.w3.org/1999/xlink\" width=\"500pt\" height=\"500pt\" viewBox=\"0 0 500 500\" version=\"1.1\">\n",
       "<defs>\n",
       "<g>\n",
       "<symbol overflow=\"visible\" id=\"glyph0-0\">\n",
       "<path style=\"stroke:none;\" d=\"\"/>\n",
       "</symbol>\n",
       "<symbol overflow=\"visible\" id=\"glyph0-1\">\n",
       "<path style=\"stroke:none;\" d=\"M 2.203125 0 L 0.328125 0 L 4.4375 -5.882812 L 0.585938 -11.476562 L 2.53125 -11.476562 L 5.460938 -7.085938 L 8.367188 -11.476562 L 10.21875 -11.476562 L 6.367188 -5.882812 L 10.40625 0 L 8.476562 0 L 5.382812 -4.71875 Z M 2.203125 0 \"/>\n",
       "</symbol>\n",
       "<symbol overflow=\"visible\" id=\"glyph0-2\">\n",
       "<path style=\"stroke:none;\" d=\"M 0.328125 -11.476562 L 2.140625 -11.476562 L 5.4375 -5.960938 L 8.734375 -11.476562 L 10.554688 -11.476562 L 6.21875 -4.625 L 6.21875 0 L 4.664062 0 L 4.664062 -4.625 Z M 0.328125 -11.476562 \"/>\n",
       "</symbol>\n",
       "<symbol overflow=\"visible\" id=\"glyph0-3\">\n",
       "<path style=\"stroke:none;\" d=\"M 0.367188 -1.289062 L 7.40625 -10.109375 L 0.882812 -10.109375 L 0.882812 -11.476562 L 9.40625 -11.476562 L 9.40625 -10.140625 L 2.328125 -1.367188 L 9.40625 -1.367188 L 9.40625 0 L 0.367188 0 Z M 0.367188 -1.289062 \"/>\n",
       "</symbol>\n",
       "</g>\n",
       "</defs>\n",
       "<g id=\"surface5135\">\n",
       "<path style=\"fill:none;stroke-width:1;stroke-linecap:butt;stroke-linejoin:miter;stroke:rgb(100%,0%,0%);stroke-opacity:0.6;stroke-miterlimit:10;\" d=\"M 249.921875 250.035156 L 207.714844 268.488281 \"/>\n",
       "<path style=\" stroke:none;fill-rule:nonzero;fill:rgb(100%,0%,0%);fill-opacity:0.6;\" d=\"M 209.25 271.992188 L 199.25 272.1875 L 206.183594 264.980469 \"/>\n",
       "<g style=\"fill:rgb(100%,0%,0%);fill-opacity:0.6;\">\n",
       "  <use xlink:href=\"#glyph0-1\" x=\"194.210938\" y=\"267.1875\"/>\n",
       "</g>\n",
       "<path style=\"fill:none;stroke-width:1;stroke-linecap:butt;stroke-linejoin:miter;stroke:rgb(0%,50.196078%,0%);stroke-opacity:0.6;stroke-miterlimit:10;\" d=\"M 249.921875 250.035156 L 278.550781 276.519531 \"/>\n",
       "<path style=\" stroke:none;fill-rule:nonzero;fill:rgb(0%,50.196078%,0%);fill-opacity:0.6;\" d=\"M 281.148438 273.710938 L 285.332031 282.792969 L 275.953125 279.328125 \"/>\n",
       "<g style=\"fill:rgb(0%,50.196078%,0%);fill-opacity:0.6;\">\n",
       "  <use xlink:href=\"#glyph0-2\" x=\"280.21875\" y=\"277.792969\"/>\n",
       "</g>\n",
       "<path style=\"fill:none;stroke-width:1;stroke-linecap:butt;stroke-linejoin:miter;stroke:rgb(0%,0%,100%);stroke-opacity:0.6;stroke-miterlimit:10;\" d=\"M 249.921875 250.035156 L 249.917969 211.035156 \"/>\n",
       "<path style=\" stroke:none;fill-rule:nonzero;fill:rgb(0%,0%,100%);fill-opacity:0.6;\" d=\"M 246.09375 211.035156 L 249.917969 201.796875 L 253.746094 211.035156 \"/>\n",
       "<g style=\"fill:rgb(0%,0%,100%);fill-opacity:0.6;\">\n",
       "  <use xlink:href=\"#glyph0-3\" x=\"245.398438\" y=\"196.796875\"/>\n",
       "</g>\n",
       "<path style=\" stroke:none;fill-rule:nonzero;fill:rgb(40%,40%,40%);fill-opacity:0.6;\" d=\"M -502.996094 579.21875 L -503.859375 655.679688 L -491.390625 737.683594 L -462.589844 823.75 L -414.519531 911.480469 L -344.78125 997.386719 L -252.125 1076.945312 L -137.183594 1144.871094 L -3 1195.757812 L 144.800781 1224.980469 L 298.527344 1229.65625 L 449.5 1209.300781 L 589.507812 1165.96875 L 712.070312 1103.738281 L 813.167969 1027.847656 L 891.328125 943.714844 L 947.1875 856.195312 L 982.792969 769.175781 L 1000.953125 685.449219 L 1004.6875 606.816406 L 996.875 534.261719 L 980.074219 468.183594 L 956.449219 408.570312 L 927.761719 355.160156 L 895.398438 307.546875 L 860.453125 265.265625 L 823.75 227.828125 L 785.910156 194.757812 L 747.402344 165.617188 L 708.550781 140.003906 L 669.601562 117.5625 L 630.710938 97.972656 L 591.988281 80.964844 L 553.496094 66.300781 L 515.265625 53.777344 L 477.304688 43.222656 L 439.597656 34.496094 L 402.121094 27.480469 L 364.839844 22.085938 L 327.714844 18.242188 L 290.695312 15.894531 L 253.734375 15.019531 L 216.773438 15.601562 L 179.769531 17.648438 L 142.671875 21.1875 L 105.425781 26.265625 L 67.992188 32.945312 L 30.335938 41.316406 L -7.574219 51.492188 L -45.75 63.605469 L -84.191406 77.820312 L -122.871094 94.339844 L -161.734375 113.382812 L -200.683594 135.226562 L -239.570312 160.171875 L -278.171875 188.566406 L -316.179688 220.808594 L -353.15625 257.328125 L -388.515625 298.59375 L -421.480469 345.089844 L -451.011719 397.289062 L -475.789062 455.625 L -494.128906 520.386719 Z M -502.996094 579.21875 \"/>\n",
       "<path style=\"fill:none;stroke-width:2;stroke-linecap:butt;stroke-linejoin:bevel;stroke:rgb(0%,0%,100%);stroke-opacity:0.6;stroke-miterlimit:10;\" d=\"M 170.4375 275.164062 L 89.367188 462.859375 L 362.242188 518.042969 L 388.378906 308.621094 Z M 170.4375 275.164062 \"/>\n",
       "<path style=\"fill:none;stroke-width:2;stroke-linecap:butt;stroke-linejoin:bevel;stroke:rgb(100%,0%,0%);stroke-opacity:0.6;stroke-miterlimit:10;\" d=\"M 89.367188 462.859375 L 159.070312 522.625 L 362.242188 518.042969 Z M 89.367188 462.859375 \"/>\n",
       "<path style=\"fill:none;stroke-width:2;stroke-linecap:butt;stroke-linejoin:bevel;stroke:rgb(0%,0%,100%);stroke-opacity:0.6;stroke-miterlimit:10;\" d=\"M 89.367188 462.859375 L 170.4375 275.164062 L -19.570312 210.980469 Z M 89.367188 462.859375 \"/>\n",
       "<path style=\"fill:none;stroke-width:2;stroke-linecap:butt;stroke-linejoin:bevel;stroke:rgb(0%,0%,100%);stroke-opacity:0.6;stroke-miterlimit:10;\" d=\"M 388.378906 308.621094 L 362.242188 518.042969 L 558.539062 294.664062 Z M 388.378906 308.621094 \"/>\n",
       "<path style=\"fill:none;stroke-width:2;stroke-linecap:butt;stroke-linejoin:bevel;stroke:rgb(100%,0%,0%);stroke-opacity:0.6;stroke-miterlimit:10;\" d=\"M 301.054688 96.933594 L 170.4375 275.164062 L 388.378906 308.621094 Z M 301.054688 96.933594 \"/>\n",
       "<path style=\"fill:none;stroke-width:2;stroke-linecap:butt;stroke-linejoin:bevel;stroke:rgb(0%,0%,100%);stroke-opacity:0.6;stroke-miterlimit:10;\" d=\"M 301.054688 96.933594 L 388.378906 308.621094 L 459.597656 302.777344 L 558.539062 294.664062 L 439.410156 -0.988281 Z M 301.054688 96.933594 \"/>\n",
       "<path style=\"fill:none;stroke-width:2;stroke-linecap:butt;stroke-linejoin:bevel;stroke:rgb(0%,0%,100%);stroke-opacity:0.6;stroke-miterlimit:10;\" d=\"M 89.367188 462.859375 L -19.570312 210.980469 L -4.554688 142.167969 L 159.070312 522.625 Z M 89.367188 462.859375 \"/>\n",
       "<path style=\"fill:none;stroke-width:2;stroke-linecap:butt;stroke-linejoin:bevel;stroke:rgb(100%,0%,0%);stroke-opacity:0.6;stroke-miterlimit:10;\" d=\"M 362.242188 518.042969 L 159.070312 522.625 L 420.265625 196.148438 L 558.539062 294.664062 Z M 362.242188 518.042969 \"/>\n",
       "<path style=\"fill:none;stroke-width:2;stroke-linecap:butt;stroke-linejoin:bevel;stroke:rgb(0%,0%,100%);stroke-opacity:0.6;stroke-miterlimit:10;\" d=\"M -19.570312 210.980469 L 170.4375 275.164062 L 301.054688 96.933594 L 134.386719 -26.09375 Z M -19.570312 210.980469 \"/>\n",
       "<path style=\"fill:none;stroke-width:2;stroke-linecap:butt;stroke-linejoin:bevel;stroke:rgb(0%,0%,100%);stroke-opacity:0.6;stroke-miterlimit:10;\" d=\"M 159.070312 522.625 L -4.554688 142.167969 L 420.265625 196.148438 Z M 159.070312 522.625 \"/>\n",
       "<path style=\"fill:none;stroke-width:2;stroke-linecap:butt;stroke-linejoin:bevel;stroke:rgb(100%,0%,0%);stroke-opacity:0.6;stroke-miterlimit:10;\" d=\"M -4.554688 142.167969 L -19.570312 210.980469 L 134.386719 -26.09375 Z M -4.554688 142.167969 \"/>\n",
       "<path style=\"fill:none;stroke-width:2;stroke-linecap:butt;stroke-linejoin:bevel;stroke:rgb(0%,0%,100%);stroke-opacity:0.6;stroke-miterlimit:10;\" d=\"M 439.410156 -0.988281 L 558.539062 294.664062 L 420.265625 196.148438 Z M 439.410156 -0.988281 \"/>\n",
       "<path style=\"fill:none;stroke-width:2;stroke-linecap:butt;stroke-linejoin:bevel;stroke:rgb(0%,0%,100%);stroke-opacity:0.6;stroke-miterlimit:10;\" d=\"M 439.410156 -0.988281 L 134.386719 -26.09375 L 301.054688 96.933594 Z M 439.410156 -0.988281 \"/>\n",
       "<path style=\"fill:none;stroke-width:2;stroke-linecap:butt;stroke-linejoin:bevel;stroke:rgb(100%,0%,0%);stroke-opacity:0.6;stroke-miterlimit:10;\" d=\"M 134.386719 -26.09375 L 439.410156 -0.988281 L 420.265625 196.148438 L -4.554688 142.167969 Z M 134.386719 -26.09375 \"/>\n",
       "</g>\n",
       "</svg>\n"
      ],
      "text/plain": [
       "    width:    500.0\n",
       "    height:   500.0\n",
       "    filename: \n",
       "    type:     svg\n",
       "    color:    (0.4, 0.4, 0.4, 0.6)\n"
      ]
     },
     "execution_count": 84,
     "metadata": {
      "comm_id": "b39dee74-bbc4-41b2-bc08-1b53c74e87a6",
      "reactive": true
     },
     "output_type": "execute_result"
    }
   ],
   "source": [
    "myrenderfunction(vertices, faces, labels, cols) = begin\n",
    "    Thebes.simplerender(vertices, faces, labels, cols, action=:stroke)\n",
    "end\n",
    "\n",
    "@manipulate for r1 in 0:0.1:2pi, r2 in 0:0.1:2pi, r3 in 0:.1:2pi, s in 40:100, eyex in 20:10:200,  eyey = 20:10:300,  eyez = 20:10:300\n",
    "    d = Drawing(500, 500, :svg)\n",
    "    origin()\n",
    "    setopacity(0.6)\n",
    "    camerapoint = Point3D(0, 0, 450)\n",
    "    eyepoint    = Point3D(eyex, eyey, eyez)\n",
    "    centerpoint = Point3D(0, 0, 0)\n",
    "    uppoint     = Point3D(0, 0, 1) # relative to centerpoint\n",
    "    newproj     = newprojection(eyepoint, centerpoint, uppoint, 750)\n",
    "    object = make(moreobjects[7])\n",
    "    draw3daxes(20,   newproj)\n",
    "    sethue(\"grey40\")\n",
    "    drawcarpet(200,  newproj)\n",
    "    changescale!(object, s, s, s)\n",
    "    rotateto!(object, r1, r2, r3)\n",
    "    sortfaces!(object)\n",
    "    drawmodel(object, newproj, cols=[\"blue\", \"red\", \"green\"], renderfunction= myrenderfunction)\n",
    "    finish()\n",
    "    d\n",
    "end"
   ]
  }
 ],
 "metadata": {
  "kernelspec": {
   "display_name": "Julia 0.6.2",
   "language": "julia",
   "name": "julia-0.6"
  },
  "language_info": {
   "file_extension": ".jl",
   "mimetype": "application/julia",
   "name": "julia",
   "version": "0.6.2"
  }
 },
 "nbformat": 4,
 "nbformat_minor": 2
}
